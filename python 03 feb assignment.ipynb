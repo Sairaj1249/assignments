{
 "cells": [
  {
   "cell_type": "markdown",
   "id": "8b92e5fd-f71a-4a5e-b3a0-cfb8c3c90cc1",
   "metadata": {},
   "source": [
    "Q.1 def keyword is used to define function in python ."
   ]
  },
  {
   "cell_type": "code",
   "execution_count": 4,
   "id": "244a98ec-5626-4f21-8eff-0cc06032ae83",
   "metadata": {},
   "outputs": [
    {
     "name": "stdout",
     "output_type": "stream",
     "text": [
      "[1, 3, 5, 7, 9, 11, 13, 15, 17, 19, 21, 23, 25]\n"
     ]
    }
   ],
   "source": [
    "#to find odd no's between 1 to 25\n",
    "\n",
    "def show_odd ():\n",
    "    odd_numbers= []\n",
    "    for num in range(1,26):\n",
    "        if num%2 != 0 :\n",
    "            odd_numbers.append(num)\n",
    "    return odd_numbers\n",
    "\n",
    "print( show_odd())\n",
    "\n",
    "\n"
   ]
  },
  {
   "cell_type": "code",
   "execution_count": null,
   "id": "79c76a39-6cd7-43e2-902c-cb801950f360",
   "metadata": {},
   "outputs": [],
   "source": [
    "# Q.2 *args are also called positional arguments which don't take variable to store the data.\n",
    "#   **kwargs are also calle keyword arguments and passed as a pair of key: value where variable is used."
   ]
  },
  {
   "cell_type": "code",
   "execution_count": 8,
   "id": "9dd6cd94-4e0a-4fff-929d-c34e9e616a37",
   "metadata": {},
   "outputs": [
    {
     "name": "stdout",
     "output_type": "stream",
     "text": [
      "my marks are 99 and my age is 20\n"
     ]
    }
   ],
   "source": [
    "def sairaj(marks,age):\n",
    "    return f\"my marks are {marks} and my age is {age}\" \n",
    "    \n",
    "    \n",
    "print(sairaj(99,age=20))    \n",
    "\n"
   ]
  },
  {
   "cell_type": "code",
   "execution_count": null,
   "id": "37f5075a-6bd1-4b22-a2f4-d717864f967d",
   "metadata": {},
   "outputs": [],
   "source": [
    "# in above example we have used both *arg and **kwargs "
   ]
  },
  {
   "cell_type": "code",
   "execution_count": null,
   "id": "e032f5a9-da81-4963-9798-dbe1b7aace1a",
   "metadata": {},
   "outputs": [],
   "source": [
    "#Q.3"
   ]
  },
  {
   "cell_type": "code",
   "execution_count": 1,
   "id": "df9958fd-ce7c-4acd-a22d-e6855f1e7441",
   "metadata": {},
   "outputs": [
    {
     "name": "stdout",
     "output_type": "stream",
     "text": [
      "2\n",
      "4\n",
      "6\n",
      "8\n",
      "10\n"
     ]
    }
   ],
   "source": [
    "mylist = [2,4,6,8,10,12,14,16,18,20]\n",
    "myit = iter(mylist)\n",
    "\n",
    "print(next(myit))\n",
    "print(next(myit))\n",
    "print(next(myit))\n",
    "print(next(myit))\n",
    "print(next(myit))\n"
   ]
  },
  {
   "cell_type": "markdown",
   "id": "7278ecc3-a179-4a2d-b5c9-6dc2a8c8592a",
   "metadata": {},
   "source": [
    "In Python, the method used to initialize an iterator object is __iter__(), and the method used for iteration (to get the next element) is __next__()."
   ]
  },
  {
   "cell_type": "markdown",
   "id": "0979e86e-65ea-48d6-8f12-4ac8528e3b4b",
   "metadata": {},
   "source": [
    "Q.4 A generator function in Python is a special type of function that generates a sequence of values lazily, i.e., one at a time, as requested by the caller. Unlike regular functions that return a value and exit, generator functions pause their execution and save their state, allowing them to be resumed later to generate the next value. This behavior helps save memory and is particularly useful for generating large or infinite sequences.\n",
    "yield keyword is used in generators to produce a value and pause the execution of the function , by saving it's state."
   ]
  },
  {
   "cell_type": "code",
   "execution_count": 4,
   "id": "f7e75c3d-1921-45e3-9ccc-046a37b2870b",
   "metadata": {},
   "outputs": [
    {
     "name": "stdout",
     "output_type": "stream",
     "text": [
      "1\n",
      "2\n",
      "3\n",
      "4\n",
      "5\n"
     ]
    }
   ],
   "source": [
    "def number_generator(limit):\n",
    "    num = 1\n",
    "    while num <= limit:\n",
    "    \n",
    "        yield num\n",
    "        num+=1\n",
    "gen = number_generator(5)\n",
    "\n",
    "for num in gen:\n",
    "    print(num) \n",
    "    \n",
    "    \n",
    "    \n",
    "    "
   ]
  },
  {
   "cell_type": "markdown",
   "id": "443593bb-8b63-4818-b1ac-00c30aeecfa4",
   "metadata": {},
   "source": [
    "Q.5"
   ]
  },
  {
   "cell_type": "code",
   "execution_count": 1,
   "id": "fd3fdeff-47cb-4efe-9f43-7c6a6fc68673",
   "metadata": {},
   "outputs": [
    {
     "name": "stdout",
     "output_type": "stream",
     "text": [
      "First 20 prime numbers:\n",
      "2\n",
      "3\n",
      "5\n",
      "7\n",
      "11\n",
      "13\n",
      "17\n",
      "19\n",
      "23\n",
      "29\n",
      "31\n",
      "37\n",
      "41\n",
      "43\n",
      "47\n",
      "53\n",
      "59\n",
      "61\n",
      "67\n",
      "71\n"
     ]
    }
   ],
   "source": [
    "def is_prime(n):\n",
    "    \"\"\"Check if a number is prime.\"\"\"\n",
    "    if n < 2:\n",
    "        return False\n",
    "    for i in range(2, int(n**0.5) + 1):\n",
    "        if n % i == 0:\n",
    "            return False\n",
    "    return True\n",
    "\n",
    "def prime_generator():\n",
    "    \"\"\"Generate prime numbers less than 1000.\"\"\"\n",
    "    num = 2                ### num ko initialize kar diya \n",
    "    while num < 1000:    ## until it is less than 1000 loop runs \n",
    "        if is_prime(num):\n",
    "            yield num\n",
    "        num += 1\n",
    "\n",
    "\n",
    "prime_gen = prime_generator()      #prime_gen is generator object\n",
    "\n",
    "# Print the first 20 prime numbers using next()\n",
    "print(\"First 20 prime numbers:\")\n",
    "for _ in range(20):\n",
    "    print(next(prime_gen))\n",
    "\n"
   ]
  },
  {
   "cell_type": "code",
   "execution_count": null,
   "id": "f3b80339-a337-4496-bada-eed7fe364ac6",
   "metadata": {},
   "outputs": [],
   "source": []
  },
  {
   "cell_type": "code",
   "execution_count": null,
   "id": "3f70f286-e48b-4d70-924c-f96113b6b36c",
   "metadata": {},
   "outputs": [],
   "source": []
  },
  {
   "cell_type": "code",
   "execution_count": null,
   "id": "87115570-4c01-4c22-b74b-faea02ffb7f2",
   "metadata": {},
   "outputs": [],
   "source": []
  },
  {
   "cell_type": "code",
   "execution_count": null,
   "id": "f37f1f82-4302-44af-bf56-0623827fd536",
   "metadata": {},
   "outputs": [],
   "source": []
  },
  {
   "cell_type": "code",
   "execution_count": null,
   "id": "0d3fb951-b4e8-4eba-b3d0-4849b2edf56a",
   "metadata": {},
   "outputs": [],
   "source": []
  },
  {
   "cell_type": "code",
   "execution_count": null,
   "id": "4a1e6e99-acac-4f4c-84c2-e795919af4ba",
   "metadata": {},
   "outputs": [],
   "source": []
  },
  {
   "cell_type": "code",
   "execution_count": null,
   "id": "cd71bb6a-5466-43cf-b8d4-19228b219b22",
   "metadata": {},
   "outputs": [],
   "source": []
  },
  {
   "cell_type": "code",
   "execution_count": null,
   "id": "89db2fea-d103-4c56-8227-cd183b23d9bc",
   "metadata": {},
   "outputs": [],
   "source": []
  },
  {
   "cell_type": "code",
   "execution_count": null,
   "id": "61739d23-2bb6-487a-91e7-8476514f638f",
   "metadata": {},
   "outputs": [],
   "source": []
  },
  {
   "cell_type": "code",
   "execution_count": null,
   "id": "ec5dca42-cf48-4d1e-ac4f-587e3896c5f5",
   "metadata": {},
   "outputs": [],
   "source": []
  },
  {
   "cell_type": "code",
   "execution_count": null,
   "id": "a3aa1c55-6a69-4335-9275-5c90495fdca5",
   "metadata": {},
   "outputs": [],
   "source": []
  },
  {
   "cell_type": "code",
   "execution_count": null,
   "id": "e4aae354-6883-44b9-ba68-637935fdd5ad",
   "metadata": {},
   "outputs": [],
   "source": []
  },
  {
   "cell_type": "code",
   "execution_count": null,
   "id": "3087232e-30f2-4f83-9e68-1ccadb83cf5c",
   "metadata": {},
   "outputs": [],
   "source": []
  },
  {
   "cell_type": "code",
   "execution_count": null,
   "id": "cc6b8883-0758-4777-ac71-9aa7804cc59b",
   "metadata": {},
   "outputs": [],
   "source": []
  },
  {
   "cell_type": "code",
   "execution_count": null,
   "id": "7f06c1e1-8308-4ec5-838f-f8a608603cac",
   "metadata": {},
   "outputs": [],
   "source": []
  },
  {
   "cell_type": "code",
   "execution_count": null,
   "id": "c270a1a3-b8a0-4ada-a7d2-927cb49790a2",
   "metadata": {},
   "outputs": [],
   "source": []
  },
  {
   "cell_type": "code",
   "execution_count": null,
   "id": "a555517e-d7ca-48cf-bd8d-dc1b1092ab40",
   "metadata": {},
   "outputs": [],
   "source": []
  },
  {
   "cell_type": "code",
   "execution_count": null,
   "id": "27515eb6-dd79-4e08-bcad-b525cd06f38a",
   "metadata": {},
   "outputs": [],
   "source": []
  },
  {
   "cell_type": "code",
   "execution_count": null,
   "id": "ff8d078c-fa65-4abb-bb86-0a28ff56151e",
   "metadata": {},
   "outputs": [],
   "source": []
  },
  {
   "cell_type": "code",
   "execution_count": null,
   "id": "cfc2d660-973b-49e7-a126-32f7c79068f7",
   "metadata": {},
   "outputs": [],
   "source": []
  },
  {
   "cell_type": "code",
   "execution_count": null,
   "id": "d2e7adc8-52cb-4b3b-8407-704cfbac43f5",
   "metadata": {},
   "outputs": [],
   "source": []
  },
  {
   "cell_type": "code",
   "execution_count": null,
   "id": "5cf4c3a4-6019-42c4-9d6a-46cefa5feeea",
   "metadata": {},
   "outputs": [],
   "source": []
  },
  {
   "cell_type": "code",
   "execution_count": null,
   "id": "10814ac0-6b4f-4dbd-8746-3ea96b54b0f3",
   "metadata": {},
   "outputs": [],
   "source": []
  },
  {
   "cell_type": "code",
   "execution_count": null,
   "id": "9fcfe184-f800-4132-b299-abbf97fba80f",
   "metadata": {},
   "outputs": [],
   "source": []
  },
  {
   "cell_type": "code",
   "execution_count": null,
   "id": "04b617e9-3cb2-4387-8550-26b5fd786c4d",
   "metadata": {},
   "outputs": [],
   "source": []
  },
  {
   "cell_type": "code",
   "execution_count": null,
   "id": "199082f6-8320-42a1-86d9-0a3d34922eb7",
   "metadata": {},
   "outputs": [],
   "source": []
  },
  {
   "cell_type": "code",
   "execution_count": null,
   "id": "175ad86e-847e-49d1-9403-4b09d2cf57d2",
   "metadata": {},
   "outputs": [],
   "source": []
  },
  {
   "cell_type": "code",
   "execution_count": null,
   "id": "e1c97f37-459c-4e9a-aa83-9af429a53075",
   "metadata": {},
   "outputs": [],
   "source": []
  },
  {
   "cell_type": "code",
   "execution_count": null,
   "id": "d96ada64-e182-4109-81d7-253615426e43",
   "metadata": {},
   "outputs": [],
   "source": []
  },
  {
   "cell_type": "code",
   "execution_count": null,
   "id": "a4e1aadb-14bf-4b16-a706-1d2373955377",
   "metadata": {},
   "outputs": [],
   "source": []
  },
  {
   "cell_type": "code",
   "execution_count": null,
   "id": "4228b7d8-8381-4c91-a514-37ae2c5c837e",
   "metadata": {},
   "outputs": [],
   "source": []
  },
  {
   "cell_type": "code",
   "execution_count": null,
   "id": "bf1322eb-4aa2-4dd7-85fb-bc94dee087fe",
   "metadata": {},
   "outputs": [],
   "source": []
  },
  {
   "cell_type": "code",
   "execution_count": null,
   "id": "141166e9-e89f-43e5-b10f-d41b16e20d8c",
   "metadata": {},
   "outputs": [],
   "source": []
  },
  {
   "cell_type": "code",
   "execution_count": null,
   "id": "65f0c27e-f73b-47cb-b694-b5ff4e6cfb05",
   "metadata": {},
   "outputs": [],
   "source": []
  },
  {
   "cell_type": "code",
   "execution_count": null,
   "id": "7a7c5588-e564-4374-8f16-4a536637ffa4",
   "metadata": {},
   "outputs": [],
   "source": []
  },
  {
   "cell_type": "code",
   "execution_count": null,
   "id": "bdfa88f8-b9e7-47f5-ad6f-de60110029ae",
   "metadata": {},
   "outputs": [],
   "source": []
  },
  {
   "cell_type": "code",
   "execution_count": null,
   "id": "29d936cd-dcda-430d-9677-a2680c2bbb12",
   "metadata": {},
   "outputs": [],
   "source": []
  },
  {
   "cell_type": "code",
   "execution_count": null,
   "id": "394e004d-bca6-41e6-b3bf-48aee54730f3",
   "metadata": {},
   "outputs": [],
   "source": []
  },
  {
   "cell_type": "code",
   "execution_count": null,
   "id": "3970103f-d62f-423e-b709-c09f03c0a729",
   "metadata": {},
   "outputs": [],
   "source": []
  },
  {
   "cell_type": "code",
   "execution_count": null,
   "id": "dd35def6-f298-4e44-ba9a-4fc41191f6bc",
   "metadata": {},
   "outputs": [],
   "source": []
  },
  {
   "cell_type": "code",
   "execution_count": null,
   "id": "cfe345cc-6d78-4851-9ba9-0b24c5ba9971",
   "metadata": {},
   "outputs": [],
   "source": []
  },
  {
   "cell_type": "code",
   "execution_count": null,
   "id": "2cb45385-167c-4da0-89a4-1d1182655f35",
   "metadata": {},
   "outputs": [],
   "source": []
  },
  {
   "cell_type": "code",
   "execution_count": null,
   "id": "d8164f76-58d3-4814-b5e0-764ab63a9a3f",
   "metadata": {},
   "outputs": [],
   "source": []
  },
  {
   "cell_type": "code",
   "execution_count": null,
   "id": "c027af88-1194-4074-89b3-d11d6cbe9529",
   "metadata": {},
   "outputs": [],
   "source": []
  },
  {
   "cell_type": "code",
   "execution_count": null,
   "id": "cee8fcce-5044-4f86-82d9-ff8f2797806e",
   "metadata": {},
   "outputs": [],
   "source": []
  },
  {
   "cell_type": "code",
   "execution_count": null,
   "id": "1c43dcd5-1a0e-4d25-a0e4-bae96b250935",
   "metadata": {},
   "outputs": [],
   "source": []
  },
  {
   "cell_type": "code",
   "execution_count": null,
   "id": "7dc7848e-b4e8-48e8-b5f0-4913564b4741",
   "metadata": {},
   "outputs": [],
   "source": []
  },
  {
   "cell_type": "code",
   "execution_count": null,
   "id": "da847bb2-af0b-43f0-a1cf-0465ee519016",
   "metadata": {},
   "outputs": [],
   "source": []
  },
  {
   "cell_type": "code",
   "execution_count": null,
   "id": "c23d0300-0d73-4e13-8a29-394aa2b33d77",
   "metadata": {},
   "outputs": [],
   "source": []
  },
  {
   "cell_type": "code",
   "execution_count": null,
   "id": "0cc46b2e-20ee-4cb7-8405-dca26dfc42cc",
   "metadata": {},
   "outputs": [],
   "source": []
  },
  {
   "cell_type": "code",
   "execution_count": null,
   "id": "fda19a01-dea3-4ea4-a927-ec53f166dee8",
   "metadata": {},
   "outputs": [],
   "source": []
  },
  {
   "cell_type": "code",
   "execution_count": null,
   "id": "a4f2964b-a1b2-4ca6-a2da-a3658b3536b9",
   "metadata": {},
   "outputs": [],
   "source": []
  },
  {
   "cell_type": "code",
   "execution_count": null,
   "id": "fb92ad5d-0c3c-428a-8a16-fcf4a71c071f",
   "metadata": {},
   "outputs": [],
   "source": []
  }
 ],
 "metadata": {
  "kernelspec": {
   "display_name": "Python 3 (ipykernel)",
   "language": "python",
   "name": "python3"
  },
  "language_info": {
   "codemirror_mode": {
    "name": "ipython",
    "version": 3
   },
   "file_extension": ".py",
   "mimetype": "text/x-python",
   "name": "python",
   "nbconvert_exporter": "python",
   "pygments_lexer": "ipython3",
   "version": "3.10.8"
  }
 },
 "nbformat": 4,
 "nbformat_minor": 5
}
