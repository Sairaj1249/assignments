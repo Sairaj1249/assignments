{
 "cells": [
  {
   "cell_type": "markdown",
   "id": "8f823227-5fe9-45cf-85b0-d409c8222430",
   "metadata": {},
   "source": [
    "QUE.1"
   ]
  },
  {
   "cell_type": "code",
   "execution_count": 6,
   "id": "1e221190-4d66-4fc6-a363-f629046f720f",
   "metadata": {},
   "outputs": [
    {
     "name": "stdin",
     "output_type": "stream",
     "text": [
      "enter percentage 91.338573837246\n"
     ]
    },
    {
     "name": "stdout",
     "output_type": "stream",
     "text": [
      "Grade: grade A\n"
     ]
    }
   ],
   "source": [
    "def calculate_grade(percentage):\n",
    "    if percentage > 90 :\n",
    "        return \"grade A\"\n",
    "    elif percentage >80  :\n",
    "        return \"grade B\"\n",
    "    elif percentage >60  :\n",
    "        return \"grade C\" \n",
    "    else :\n",
    "        return \"grade D\"\n",
    "    \n",
    "try :\n",
    "    percentage= (float(input(\"enter percentage\")))\n",
    "    \n",
    "    \n",
    "    if percentage < 0 or percentage >100:\n",
    "        print(\"invalid input is there try percentage value between 1 and 100 \")\n",
    "              \n",
    "    else :\n",
    "              \n",
    "              grade=calculate_grade(percentage)\n",
    "              print(\"Grade:\",grade)\n",
    "        \n",
    "except ValueError: \n",
    "              print(\"invalid input enter percentage only\")\n",
    "              \n",
    "              \n",
    "              \n",
    "              \n",
    "              "
   ]
  },
  {
   "cell_type": "markdown",
   "id": "8431128f-0222-47ec-849f-049c77b6c3b6",
   "metadata": {},
   "source": [
    "QUE.2"
   ]
  },
  {
   "cell_type": "code",
   "execution_count": 29,
   "id": "40479e55-0c71-4866-b836-2086995f08c4",
   "metadata": {},
   "outputs": [
    {
     "name": "stdin",
     "output_type": "stream",
     "text": [
      "enter cost price 700000\n"
     ]
    },
    {
     "name": "stdout",
     "output_type": "stream",
     "text": [
      "roadtax is: 105000.0\n"
     ]
    }
   ],
   "source": [
    "def calculate_road_tax(cost_price):\n",
    "    if cost_price>100000:\n",
    "        return 0.15*cost_price\n",
    "    elif cost_price>500000:\n",
    "        return 0.1*cost_price\n",
    "    else:\n",
    "        return 0.05 *cost_price\n",
    "    \n",
    "try:\n",
    "    cost_price=float(input(\"enter cost price\"))\n",
    "\n",
    "    if cost_price<0:\n",
    "            print(\"inavalid cost price\")\n",
    "            \n",
    "    else :\n",
    "        roadtax=calculate_road_tax(cost_price)\n",
    "        print(\"roadtax is:\",roadtax)\n",
    "\n",
    "except ValueError:\n",
    "    print (\" the input is invalid please enter positive cost price\")"
   ]
  },
  {
   "cell_type": "markdown",
   "id": "364e23b3-4fed-4c27-9dba-2b585032d5b9",
   "metadata": {},
   "source": [
    "QUE.3 "
   ]
  },
  {
   "cell_type": "code",
   "execution_count": 40,
   "id": "5f2e7a30-e66c-4c78-ae12-35d159cabefa",
   "metadata": {},
   "outputs": [
    {
     "name": "stdin",
     "output_type": "stream",
     "text": [
      "Enter the city (Delhi, Agra, or Jaipur):  jaipur\n"
     ]
    },
    {
     "name": "stdout",
     "output_type": "stream",
     "text": [
      "The monument in Jaipur is: Jal Mahal\n"
     ]
    }
   ],
   "source": [
    "def display_monument(city):\n",
    "    monuments = {\n",
    "        'delhi': 'Red Fort',\n",
    "        'agra': 'Taj Mahal',\n",
    "        'jaipur': 'Jal Mahal'\n",
    "    }\n",
    "\n",
    "    # Convert the input city to lowercase for case-insensitive comparison\n",
    "    city_lower = city.lower()\n",
    "\n",
    "    # Check if the city is in the dictionary\n",
    "    if city_lower in monuments:\n",
    "        monument = monuments[city_lower]\n",
    "        print(f\"The monument in {city.capitalize()} is: {monument}\")\n",
    "    else:\n",
    "        print(\"Monument information not available for the entered city.\")\n",
    "\n",
    "try:\n",
    "    # Accept city from the user\n",
    "    city = input(\"Enter the city (Delhi, Agra, or Jaipur): \")\n",
    "\n",
    "    # Display the monument for the entered city\n",
    "    display_monument(city)\n",
    "\n",
    "except ValueError:\n",
    "    print(\"Invalid input. Please enter a valid city.\")\n"
   ]
  },
  {
   "cell_type": "markdown",
   "id": "b0ba993d-179b-40fc-a275-3b6ccafbeedd",
   "metadata": {},
   "source": [
    "QUE.4"
   ]
  },
  {
   "cell_type": "code",
   "execution_count": 10,
   "id": "0d8747db-41f5-4d3e-861a-5e0a27446f92",
   "metadata": {},
   "outputs": [
    {
     "name": "stdin",
     "output_type": "stream",
     "text": [
      "enter the no 729\n"
     ]
    },
    {
     "name": "stdout",
     "output_type": "stream",
     "text": [
      "the number of times it can be divided is {divisions_count} 4\n"
     ]
    }
   ],
   "source": [
    "try: \n",
    "    initial_number= float(input('enter the no'))\n",
    "    \n",
    "    divisions_count=0\n",
    "    \n",
    "    while initial_number >10 :\n",
    "        initial_number/=3\n",
    "        divisions_count +=1\n",
    "    print(\"the number of times it can be divided is {divisions_count}\",divisions_count)\n",
    "    \n",
    "    \n",
    "except ValueError :\n",
    "    print(\"the no is invalid\")\n",
    "    "
   ]
  },
  {
   "cell_type": "raw",
   "id": "8252b3e0-f459-4a99-a190-f49372a1f32e",
   "metadata": {},
   "source": [
    "QUE.5"
   ]
  },
  {
   "cell_type": "markdown",
   "id": "b5acedb0-273b-42fb-ad37-87bdd71305fc",
   "metadata": {},
   "source": [
    "WHILE LOOP IS USED IN PYTHON TO REPEATEDLY EXECUTE A CODE UNTIL A PARTICULAR CONDITION IS TRUE.IT HELPS US TO REDUCE TIME AND INCREASES ACCURACY AND AS WE DON'T KNOW THE NO OF ITERATIONS BEFORE ,BY USING A CONDITION WE CAN SET THE ITERATIONS ."
   ]
  },
  {
   "cell_type": "code",
   "execution_count": 1,
   "id": "52641158-6de8-4664-99ef-31aed3bc152d",
   "metadata": {},
   "outputs": [
    {
     "name": "stdout",
     "output_type": "stream",
     "text": [
      "1\n",
      "2\n",
      "3\n",
      "4\n",
      "5\n"
     ]
    }
   ],
   "source": [
    "# Example: Printing numbers from 1 to 5 using a while loop\n",
    "number = 1\n",
    "\n",
    "while number <= 5:\n",
    "    print(number)\n",
    "    number += 1\n"
   ]
  },
  {
   "cell_type": "code",
   "execution_count": null,
   "id": "3b0ca685-7fd6-4e56-877b-322c5d2af743",
   "metadata": {},
   "outputs": [],
   "source": [
    "QUE.6 "
   ]
  },
  {
   "cell_type": "markdown",
   "id": "65b09645-efd7-40ce-8043-3728315afc6b",
   "metadata": {},
   "source": [
    "first we will see trangular pattern "
   ]
  },
  {
   "cell_type": "code",
   "execution_count": 9,
   "id": "6a916dd9-58f8-4056-8c15-e893897d0b1c",
   "metadata": {},
   "outputs": [
    {
     "name": "stdout",
     "output_type": "stream",
     "text": [
      "*\n",
      "**\n",
      "***\n",
      "****\n",
      "*****\n"
     ]
    }
   ],
   "source": [
    "rows= 5\n",
    "i= 1\n",
    "while i <= rows :\n",
    "        j=1\n",
    "        while j<=i:\n",
    "            print('*',end='')\n",
    "            j+=1\n",
    "        print()\n",
    "        i+=1  \n",
    "            "
   ]
  },
  {
   "cell_type": "code",
   "execution_count": null,
   "id": "96dc1f40-7834-4455-8809-ed8d16238ff0",
   "metadata": {},
   "outputs": [],
   "source": [
    "now we wil see square pattern \n"
   ]
  },
  {
   "cell_type": "code",
   "execution_count": 10,
   "id": "c5a5d3f9-0fad-4445-9c70-7e7b9387783d",
   "metadata": {},
   "outputs": [
    {
     "name": "stdout",
     "output_type": "stream",
     "text": [
      "*****\n",
      "*****\n",
      "*****\n",
      "*****\n",
      "*****\n"
     ]
    }
   ],
   "source": [
    "size = 5\n",
    "i = 1\n",
    "\n",
    "while i<= size :\n",
    "    j=1              # har baarr j ki value reset hogi \n",
    "    while j <=size :          ##this loop will run 5 times \n",
    "        print(\"*\" ,end='')\n",
    "        j+=1\n",
    "    print()\n",
    "    i+=1\n",
    "    \n",
    "\n",
    "\n"
   ]
  },
  {
   "cell_type": "code",
   "execution_count": null,
   "id": "5c7b36d6-77b8-4691-a9c7-0b95e5ec39df",
   "metadata": {},
   "outputs": [],
   "source": [
    "now we will see triangular inverse pattern "
   ]
  },
  {
   "cell_type": "code",
   "execution_count": 1,
   "id": "96c46f63-1fc7-44cd-b42a-fc17263b74ff",
   "metadata": {},
   "outputs": [
    {
     "name": "stdout",
     "output_type": "stream",
     "text": [
      "*****\n",
      "****\n",
      "***\n",
      "**\n",
      "*\n"
     ]
    }
   ],
   "source": [
    "# Pattern 3: Inverted Right Triangle Pattern\n",
    "rows = 5\n",
    "i = rows\n",
    "\n",
    "while i >= 1:\n",
    "    j = 1\n",
    "    while j <= i:\n",
    "        print('*', end='')\n",
    "        j += 1\n",
    "    print()\n",
    "    i -= 1\n"
   ]
  },
  {
   "cell_type": "markdown",
   "id": "4bb39e86-fe3d-447c-9818-4657f35690d7",
   "metadata": {},
   "source": [
    "use a while loop to reverse the numbers from 10 to 1"
   ]
  },
  {
   "cell_type": "code",
   "execution_count": 2,
   "id": "88717d05-f538-4d7c-8942-feb14abfe13a",
   "metadata": {},
   "outputs": [
    {
     "name": "stdout",
     "output_type": "stream",
     "text": [
      "10\n",
      "9\n",
      "8\n",
      "7\n",
      "6\n",
      "5\n",
      "4\n",
      "3\n",
      "2\n",
      "1\n"
     ]
    }
   ],
   "source": [
    "num=10\n",
    "while num >=1:\n",
    "    print(num)\n",
    "    num -=1\n",
    "    "
   ]
  },
  {
   "cell_type": "code",
   "execution_count": null,
   "id": "b238666f-4b96-4bd0-9996-44ccbbbd004e",
   "metadata": {},
   "outputs": [],
   "source": []
  },
  {
   "cell_type": "code",
   "execution_count": null,
   "id": "0cdeb349-20b9-413d-966a-435ba77f71d7",
   "metadata": {},
   "outputs": [],
   "source": []
  },
  {
   "cell_type": "code",
   "execution_count": null,
   "id": "9eea49e5-aed7-4d50-af02-c418f4547fa9",
   "metadata": {},
   "outputs": [],
   "source": []
  },
  {
   "cell_type": "code",
   "execution_count": null,
   "id": "26d02c37-ccf5-4c1b-bd16-e28956d647a4",
   "metadata": {},
   "outputs": [],
   "source": []
  },
  {
   "cell_type": "code",
   "execution_count": null,
   "id": "319a7694-d8dc-476f-86c5-f7b443147c45",
   "metadata": {},
   "outputs": [],
   "source": []
  },
  {
   "cell_type": "code",
   "execution_count": null,
   "id": "ea794a13-759d-451c-8068-f839e675fc76",
   "metadata": {},
   "outputs": [],
   "source": []
  },
  {
   "cell_type": "code",
   "execution_count": null,
   "id": "6d6e13d5-2dbf-4980-bdb7-2dfb831320d1",
   "metadata": {},
   "outputs": [],
   "source": []
  },
  {
   "cell_type": "code",
   "execution_count": null,
   "id": "7e2df4ac-3381-467b-abb7-c0967068d6e4",
   "metadata": {},
   "outputs": [],
   "source": []
  },
  {
   "cell_type": "code",
   "execution_count": null,
   "id": "414fbb10-42af-47f0-b43a-01a1f540ed6f",
   "metadata": {},
   "outputs": [],
   "source": []
  },
  {
   "cell_type": "code",
   "execution_count": null,
   "id": "8937a2cb-91b4-4832-be19-6bc76dedaa81",
   "metadata": {},
   "outputs": [],
   "source": []
  },
  {
   "cell_type": "code",
   "execution_count": null,
   "id": "c5e4fca6-e387-4b01-9d6f-a2fa80f48027",
   "metadata": {},
   "outputs": [],
   "source": []
  },
  {
   "cell_type": "code",
   "execution_count": null,
   "id": "8cd22a63-e4d1-4fa1-b33d-50a385557cca",
   "metadata": {},
   "outputs": [],
   "source": []
  },
  {
   "cell_type": "code",
   "execution_count": null,
   "id": "d9be9547-07ed-4a60-8e86-cb34ecb796b2",
   "metadata": {},
   "outputs": [],
   "source": []
  },
  {
   "cell_type": "code",
   "execution_count": null,
   "id": "0e1403f9-0305-4da7-8a0f-7b9f26dddad4",
   "metadata": {},
   "outputs": [],
   "source": []
  }
 ],
 "metadata": {
  "kernelspec": {
   "display_name": "Python 3 (ipykernel)",
   "language": "python",
   "name": "python3"
  },
  "language_info": {
   "codemirror_mode": {
    "name": "ipython",
    "version": 3
   },
   "file_extension": ".py",
   "mimetype": "text/x-python",
   "name": "python",
   "nbconvert_exporter": "python",
   "pygments_lexer": "ipython3",
   "version": "3.10.8"
  }
 },
 "nbformat": 4,
 "nbformat_minor": 5
}
